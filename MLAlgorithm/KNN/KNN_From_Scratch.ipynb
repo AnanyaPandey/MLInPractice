{
 "cells": [
  {
   "cell_type": "code",
   "execution_count": 175,
   "metadata": {},
   "outputs": [],
   "source": [
    "import numpy as np\n",
    "from sklearn import datasets\n",
    "import random,operator\n",
    "iris = datasets.load_iris()\n",
    "\n",
    "iris_data = iris.data\n",
    "iris_labels = iris.target\n",
    "\n",
    "np.random.seed(42)\n",
    "indices = np.random.permutation(len(iris_data))\n",
    "\n",
    "Numberofsample = 38\n",
    "learndataset = iris_data[indices[:-Numberofsample]]\n",
    "learndatasetLabels = iris_labels[indices[:-Numberofsample]]\n",
    "\n",
    "Testdata = iris_data[indices[-Numberofsample:]]\n",
    "TestdataLabels = iris_labels[indices[-Numberofsample:]]"
   ]
  },
  {
   "cell_type": "code",
   "execution_count": 176,
   "metadata": {},
   "outputs": [],
   "source": [
    "def distance(instance1,instance2):\n",
    "\tinstance1 = np.array(instance1)\n",
    "\tinstance2 = np.array(instance2)\n",
    "\treturn np.linalg.norm(instance1-instance2)"
   ]
  },
  {
   "cell_type": "code",
   "execution_count": 177,
   "metadata": {},
   "outputs": [],
   "source": [
    "def get_neighbour(TrainData,TrainLabels,TestInstance,k,distance=distance):\n",
    "\tdistances=[]\n",
    "\tfor i in range(len(TrainData)):\n",
    "\t\tdist = distance(TestInstance,TrainData[i])\n",
    "\t\t#distances.append(np.array(TrainData[i],dist,TrainLabels[i]))\n",
    "\t\tdistances.append((TrainData[i],dist,TrainLabels[i]))\n",
    "\t\tdistances.sort(key=lambda x:x[1]) # sorting as per distance which is X[1] X[0] is trainingdata\n",
    "\t\tneighbors = distances[:k] # everything upto k \n",
    "\treturn neighbors"
   ]
  },
  {
   "cell_type": "code",
   "execution_count": 178,
   "metadata": {},
   "outputs": [],
   "source": [
    "def getresponse(neighbors):\n",
    "\tclassvotes = {}\n",
    "\tfor x in range(len(neighbors)):\n",
    "\t\tresponse = neighbors[x][-1]\n",
    "\t\tif response in classvotes:\n",
    "\t\t\tclassvotes[response] += 1\n",
    "\t\telse :\n",
    "\t\t\tclassvotes[response] = 1\n",
    "\tsortedvotes = sorted(classvotes.items(), key=operator.itemgetter(1),reverse=True)\n",
    "\treturn sortedvotes[0][0]"
   ]
  },
  {
   "cell_type": "code",
   "execution_count": 179,
   "metadata": {},
   "outputs": [],
   "source": [
    "#TestInstance = [[7.2, 3.6, 5.1, 2.5]]\n",
    "#import pandas as pd\n",
    "#test = pd.DataFrame(TestInstance)\n",
    "k = 5"
   ]
  },
  {
   "cell_type": "code",
   "execution_count": 180,
   "metadata": {},
   "outputs": [
    {
     "data": {
      "text/plain": [
       "[(array([5.7, 2.9, 4.2, 1.3]), 0.3000000000000001, 1),\n",
       " (array([6. , 2.9, 4.5, 1.5]), 0.33166247903553975, 1),\n",
       " (array([5.7, 3. , 4.2, 1.2]), 0.36055512754639907, 1),\n",
       " (array([6.2, 2.9, 4.3, 1.3]), 0.3872983346207415, 1),\n",
       " (array([5.6, 3. , 4.5, 1.5]), 0.4242640687119289, 1)]"
      ]
     },
     "execution_count": 180,
     "metadata": {},
     "output_type": "execute_result"
    }
   ],
   "source": [
    "neigh = get_neighbour(learndataset,learndatasetLabels,Testdata[4],k)\n",
    "neigh"
   ]
  },
  {
   "cell_type": "code",
   "execution_count": 181,
   "metadata": {},
   "outputs": [
    {
     "data": {
      "text/plain": [
       "1"
      ]
     },
     "execution_count": 181,
     "metadata": {},
     "output_type": "execute_result"
    }
   ],
   "source": [
    "result = getresponse(neigh)\n",
    "result"
   ]
  },
  {
   "cell_type": "code",
   "execution_count": 182,
   "metadata": {},
   "outputs": [
    {
     "data": {
      "text/plain": [
       "0"
      ]
     },
     "execution_count": 182,
     "metadata": {},
     "output_type": "execute_result"
    }
   ],
   "source": [
    "TestdataLabels[9]"
   ]
  },
  {
   "cell_type": "code",
   "execution_count": 183,
   "metadata": {},
   "outputs": [
    {
     "data": {
      "text/plain": [
       "0.9736842105263158"
      ]
     },
     "execution_count": 183,
     "metadata": {},
     "output_type": "execute_result"
    }
   ],
   "source": [
    "results=[]\n",
    "for ix in range(len(Testdata)):\n",
    "    neigh = get_neighbour(learndataset,learndatasetLabels,Testdata[ix],k)\n",
    "    results.append(getresponse(neigh))\n",
    "np.mean(results==TestdataLabels)"
   ]
  },
  {
   "cell_type": "code",
   "execution_count": null,
   "metadata": {},
   "outputs": [],
   "source": []
  }
 ],
 "metadata": {
  "kernelspec": {
   "display_name": "Python 3",
   "language": "python",
   "name": "python3"
  },
  "language_info": {
   "codemirror_mode": {
    "name": "ipython",
    "version": 3
   },
   "file_extension": ".py",
   "mimetype": "text/x-python",
   "name": "python",
   "nbconvert_exporter": "python",
   "pygments_lexer": "ipython3",
   "version": "3.7.3"
  }
 },
 "nbformat": 4,
 "nbformat_minor": 2
}
