{
 "cells": [
  {
   "cell_type": "code",
   "execution_count": 793,
   "metadata": {},
   "outputs": [],
   "source": [
    "import numpy as np\n",
    "import pandas as pd\n",
    "import matplotlib.pyplot as plt\n",
    "%matplotlib inline\n",
    "from dateutil import parser\n"
   ]
  },
  {
   "cell_type": "markdown",
   "metadata": {},
   "source": [
    "## Obtaining Data "
   ]
  },
  {
   "cell_type": "code",
   "execution_count": 794,
   "metadata": {},
   "outputs": [
    {
     "name": "stdout",
     "output_type": "stream",
     "text": [
      "CleanAppData.csv\r\n",
      "\u001b[34mP39-CS3-Data\u001b[m\u001b[m\r\n",
      "\u001b[34mP39-CS3-Python-Code\u001b[m\u001b[m\r\n",
      "P39-CS3-Python-Code.zip\r\n",
      "Predict Users more likely to pay subscription.ipynb\r\n",
      "Untitled.ipynb\r\n"
     ]
    }
   ],
   "source": [
    "!ls"
   ]
  },
  {
   "cell_type": "code",
   "execution_count": 795,
   "metadata": {},
   "outputs": [],
   "source": [
    "data = pd.read_csv(\"P39-CS3-Data/appdata10.csv\")"
   ]
  },
  {
   "cell_type": "code",
   "execution_count": 796,
   "metadata": {},
   "outputs": [
    {
     "data": {
      "text/plain": [
       "<bound method NDFrame.describe of          user               first_open  dayofweek       hour  age  \\\n",
       "0      235136  2012-12-27 02:14:51.273          3   02:00:00   23   \n",
       "1      333588  2012-12-02 01:16:00.905          6   01:00:00   24   \n",
       "2      254414  2013-03-19 19:19:09.157          1   19:00:00   23   \n",
       "3      234192  2013-07-05 16:08:46.354          4   16:00:00   28   \n",
       "4       51549  2013-02-26 18:50:48.661          1   18:00:00   31   \n",
       "5       56480  2013-04-03 09:58:15.752          2   09:00:00   20   \n",
       "6      144649  2012-12-25 02:33:18.461          1   02:00:00   35   \n",
       "7      249366  2012-12-11 03:07:49.875          1   03:00:00   26   \n",
       "8      372004  2013-03-20 14:22:01.569          2   14:00:00   29   \n",
       "9      338013  2013-04-26 18:22:16.013          4   18:00:00   26   \n",
       "10      43555  2013-05-14 04:48:27.597          1   04:00:00   39   \n",
       "11     317454  2013-05-28 11:07:07.358          1   11:00:00   32   \n",
       "12     205375  2012-12-17 06:28:45.903          0   06:00:00   25   \n",
       "13     307608  2013-05-25 19:52:31.798          5   19:00:00   23   \n",
       "14     359855  2013-02-18 04:48:48.912          0   04:00:00   17   \n",
       "15     284938  2013-02-02 18:41:35.724          5   18:00:00   25   \n",
       "16     235143  2013-07-07 16:07:35.057          6   16:00:00   21   \n",
       "17     141402  2013-02-02 21:12:46.888          5   21:00:00   55   \n",
       "18     257945  2013-05-10 05:59:43.405          4   05:00:00   32   \n",
       "19      54931  2013-07-06 17:34:46.439          5   17:00:00   25   \n",
       "20     165432  2013-05-24 09:19:49.648          4   09:00:00   28   \n",
       "21     236951  2013-04-20 04:02:18.337          5   04:00:00   38   \n",
       "22     110461  2013-06-08 17:11:46.125          5   17:00:00   31   \n",
       "23     200187  2013-05-12 02:17:36.514          6   02:00:00   27   \n",
       "24     180427  2013-05-19 20:23:46.939          6   20:00:00   48   \n",
       "25     359383  2013-06-23 18:34:40.824          6   18:00:00   37   \n",
       "26       9810  2013-06-03 16:36:36.854          0   16:00:00   22   \n",
       "27      85089  2013-01-23 01:43:05.398          2   01:00:00   35   \n",
       "28     143818  2013-05-14 11:48:41.143          1   11:00:00   32   \n",
       "29     210060  2013-04-27 17:41:24.374          5   17:00:00   20   \n",
       "...       ...                      ...        ...        ...  ...   \n",
       "49970   14381  2013-02-05 15:39:42.553          1   15:00:00   33   \n",
       "49971  347180  2013-03-23 11:18:49.529          5   11:00:00   19   \n",
       "49972  169084  2013-01-28 15:53:22.863          0   15:00:00   24   \n",
       "49973  283019  2013-02-25 18:13:55.305          0   18:00:00   49   \n",
       "49974  205143  2013-05-05 20:49:08.445          6   20:00:00   23   \n",
       "49975  182812  2013-06-18 18:22:22.407          1   18:00:00   22   \n",
       "49976  361326  2013-03-06 20:47:48.321          2   20:00:00   35   \n",
       "49977  180292  2012-12-02 15:00:00.434          6   15:00:00   30   \n",
       "49978  288318  2013-04-19 17:16:29.863          4   17:00:00   22   \n",
       "49979    9215  2013-03-25 14:36:21.560          0   14:00:00   26   \n",
       "49980   66561  2013-05-21 07:10:44.095          1   07:00:00   35   \n",
       "49981   15782  2013-05-15 04:01:16.993          2   04:00:00   28   \n",
       "49982  352052  2013-01-04 02:24:36.509          4   02:00:00   58   \n",
       "49983  325275  2013-04-15 13:41:11.079          0   13:00:00   28   \n",
       "49984   27126  2013-03-18 16:34:39.122          0   16:00:00   46   \n",
       "49985  150486  2013-07-05 23:19:47.630          4   23:00:00   24   \n",
       "49986   89415  2013-01-21 18:16:17.842          0   18:00:00   21   \n",
       "49987  255265  2013-06-17 19:27:27.910          0   19:00:00   25   \n",
       "49988  286847  2013-01-20 02:49:41.102          6   02:00:00   48   \n",
       "49989   31525  2013-04-12 17:34:40.117          4   17:00:00   27   \n",
       "49990  179308  2013-05-25 17:30:47.675          5   17:00:00   20   \n",
       "49991   85532  2013-02-01 22:33:59.502          4   22:00:00   45   \n",
       "49992   96155  2013-02-03 15:41:52.059          6   15:00:00   50   \n",
       "49993  343026  2012-11-24 02:02:56.012          5   02:00:00   28   \n",
       "49994   90813  2013-02-25 19:35:12.691          0   19:00:00   36   \n",
       "49995  222774  2013-05-09 13:46:17.871          3   13:00:00   32   \n",
       "49996  169179  2013-04-09 00:05:17.823          1   00:00:00   35   \n",
       "49997  302367  2013-02-20 22:41:51.165          2   22:00:00   39   \n",
       "49998  324905  2013-04-28 12:33:04.288          6   12:00:00   27   \n",
       "49999   27047  2012-12-14 01:22:44.638          4   01:00:00   25   \n",
       "\n",
       "                                             screen_list  numscreens  \\\n",
       "0      idscreen,joinscreen,Cycle,product_review,ScanP...          15   \n",
       "1      joinscreen,product_review,product_review2,Scan...          13   \n",
       "2                                      Splash,Cycle,Loan           3   \n",
       "3      product_review,Home,product_review,Loan3,Finan...          40   \n",
       "4      idscreen,joinscreen,Cycle,Credit3Container,Sca...          32   \n",
       "5      idscreen,Cycle,Home,ScanPreview,VerifyPhone,Ve...          14   \n",
       "6             product_review,product_review2,ScanPreview           3   \n",
       "7      Splash,Cycle,Home,Credit3Container,Credit3Dash...          41   \n",
       "8      product_review,product_review2,ScanPreview,Ver...          33   \n",
       "9      Home,Loan2,product_review,product_review,produ...          19   \n",
       "10     Splash,idscreen,Home,RewardsContainer,Settings...          14   \n",
       "11     product_review,Home,Loan2,Credit3Container,Ver...          25   \n",
       "12     idscreen,joinscreen,Cycle,product_review,produ...          11   \n",
       "13              Alerts,ProfilePage,Home,Credit3Container           4   \n",
       "14     joinscreen,product_review,product_review2,Scan...           9   \n",
       "15     idscreen,joinscreen,Cycle,Loan2,product_review...          26   \n",
       "16     product_review,product_review,product_review,p...           6   \n",
       "17     joinscreen,Cycle,product_review,Loan2,product_...          20   \n",
       "18     Splash,product_review,Home,Loan2,product_revie...          15   \n",
       "19     idscreen,Loan3,product_review,product_review,Home           5   \n",
       "20     Splash,idscreen,Cycle,Home,Loan2,ProfilePage,B...           8   \n",
       "21     Cycle,Splash,Home,Loan2,product_review,product...          42   \n",
       "22     idscreen,Home,ScanPreview,location,VerifyPhone...           9   \n",
       "23     Splash,idscreen,Cycle,Home,ScanPreview,VerifyP...          42   \n",
       "24                                                  Home           1   \n",
       "25     idscreen,product_review,product_review,product...          38   \n",
       "26     Home,product_review,product_review,product_rev...          49   \n",
       "27     idscreen,joinscreen,Home,Loan2,ProfilePage,Pro...          35   \n",
       "28     Cycle,Credit3Container,ScanPreview,VerifyDateO...          19   \n",
       "29     idscreen,Cycle,Home,Loan2,product_review,produ...          10   \n",
       "...                                                  ...         ...   \n",
       "49970  joinscreen,product_review,product_review2,prod...          12   \n",
       "49971  joinscreen,Cycle,Credit3Container,ScanPreview,...          23   \n",
       "49972  Splash,Cycle,Home,Loan2,Loan1,Institutions,Pro...          41   \n",
       "49973  joinscreen,product_review,product_review2,Scan...          11   \n",
       "49974  Cycle,product_review,product_review,product_re...          25   \n",
       "49975  product_review,Home,Loan3,product_review,produ...          18   \n",
       "49976  idscreen,joinscreen,Cycle,product_review,produ...          69   \n",
       "49977  SelectInstitution,WelcomeBankVerification,Comm...          14   \n",
       "49978  idscreen,Cycle,Home,product_review,product_rev...          24   \n",
       "49979  Home,Loan2,product_review,product_review,produ...          15   \n",
       "49980  Home,product_review,product_review,product_rev...          13   \n",
       "49981  Credit2,Credit3Dashboard,Loan2,product_review,...          18   \n",
       "49982                         product_review,ScanPreview           2   \n",
       "49983  Loan2,product_review,product_review,product_re...           8   \n",
       "49984  Home,Loan2,Institutions,Credit3Container,Refer...          28   \n",
       "49985  idscreen,Cycle,Home,product_review,product_rev...          24   \n",
       "49986  Cycle,Home,Institutions,Loan2,Credit3Dashboard...          13   \n",
       "49987  product_review,Home,product_review,product_rev...          14   \n",
       "49988                                Loan2,Loan1,History           5   \n",
       "49989                                               Home           1   \n",
       "49990  Splash,idscreen,Cycle,Home,product_review,prod...           8   \n",
       "49991  Splash,Cycle,Home,Loan2,Loan1,MLWebView,Instit...          30   \n",
       "49992  idscreen,joinscreen,product_review,product_rev...          28   \n",
       "49993  joinscreen,product_review,product_review2,Scan...           4   \n",
       "49994  idscreen,joinscreen,Cycle,product_review,produ...          25   \n",
       "49995  Splash,Home,ScanPreview,VerifyPhone,VerifySSN,...          13   \n",
       "49996                 Cycle,Splash,Home,RewardsContainer           4   \n",
       "49997  joinscreen,product_review,product_review2,Scan...          25   \n",
       "49998  Cycle,Home,product_review,product_review,produ...          26   \n",
       "49999  product_review,ScanPreview,VerifyDateOfBirth,V...          26   \n",
       "\n",
       "       minigame  used_premium_feature  enrolled            enrolled_date  \\\n",
       "0             0                     0         0                      NaN   \n",
       "1             0                     0         0                      NaN   \n",
       "2             0                     1         0                      NaN   \n",
       "3             0                     0         1  2013-07-05 16:11:49.513   \n",
       "4             0                     0         1  2013-02-26 18:56:37.841   \n",
       "5             0                     0         1  2013-04-03 09:59:03.291   \n",
       "6             0                     0         0                      NaN   \n",
       "7             0                     1         0                      NaN   \n",
       "8             1                     1         1  2013-04-27 22:24:54.542   \n",
       "9             0                     0         1  2013-04-26 18:31:58.923   \n",
       "10            0                     0         1  2013-05-15 21:02:17.200   \n",
       "11            1                     1         0                      NaN   \n",
       "12            0                     0         0                      NaN   \n",
       "13            0                     0         1  2013-06-18 14:27:42.824   \n",
       "14            0                     0         0                      NaN   \n",
       "15            1                     0         1  2013-04-29 21:10:04.466   \n",
       "16            0                     0         1  2013-07-08 16:24:09.052   \n",
       "17            0                     0         1  2013-02-11 01:35:03.098   \n",
       "18            0                     0         1  2013-05-11 04:29:36.906   \n",
       "19            0                     0         1  2013-07-06 18:55:54.215   \n",
       "20            0                     1         1  2013-05-26 00:53:03.853   \n",
       "21            0                     1         0                      NaN   \n",
       "22            1                     0         1  2013-06-08 17:13:13.131   \n",
       "23            0                     0         1  2013-05-12 02:20:47.731   \n",
       "24            1                     0         1  2013-05-21 12:52:53.166   \n",
       "25            0                     0         1  2013-06-23 18:38:29.054   \n",
       "26            1                     0         1  2013-06-03 16:43:42.971   \n",
       "27            0                     0         1  2013-02-24 01:21:26.698   \n",
       "28            0                     1         1  2013-05-14 11:49:25.601   \n",
       "29            0                     0         0                      NaN   \n",
       "...         ...                   ...       ...                      ...   \n",
       "49970         0                     0         1  2013-02-05 15:50:20.223   \n",
       "49971         0                     0         1  2013-03-23 11:20:23.586   \n",
       "49972         0                     1         0                      NaN   \n",
       "49973         0                     0         1  2013-02-25 18:16:10.155   \n",
       "49974         0                     0         1  2013-05-05 20:50:55.549   \n",
       "49975         0                     0         1  2013-06-18 18:25:45.862   \n",
       "49976         0                     0         1  2013-03-06 22:32:26.954   \n",
       "49977         0                     1         0                      NaN   \n",
       "49978         0                     1         1  2013-04-19 17:20:18.210   \n",
       "49979         0                     0         1  2013-03-25 14:38:50.699   \n",
       "49980         0                     1         1  2013-05-21 07:17:16.723   \n",
       "49981         0                     0         0                      NaN   \n",
       "49982         0                     0         1  2013-03-31 13:51:33.722   \n",
       "49983         0                     0         1  2013-07-08 14:09:05.362   \n",
       "49984         0                     0         0                      NaN   \n",
       "49985         0                     0         1  2013-07-05 23:23:14.692   \n",
       "49986         0                     0         0                      NaN   \n",
       "49987         0                     0         0                      NaN   \n",
       "49988         0                     0         1  2013-03-07 22:48:55.066   \n",
       "49989         0                     0         0                      NaN   \n",
       "49990         0                     0         1  2013-05-26 06:33:54.237   \n",
       "49991         1                     1         1  2013-02-01 22:35:36.750   \n",
       "49992         0                     0         1  2013-02-03 15:43:43.163   \n",
       "49993         0                     0         0                      NaN   \n",
       "49994         0                     0         1  2013-02-25 19:36:56.082   \n",
       "49995         0                     0         1  2013-05-09 13:47:52.875   \n",
       "49996         0                     1         0                      NaN   \n",
       "49997         0                     0         0                      NaN   \n",
       "49998         0                     0         1  2013-04-28 12:35:38.709   \n",
       "49999         0                     0         0                      NaN   \n",
       "\n",
       "       liked  \n",
       "0          0  \n",
       "1          0  \n",
       "2          1  \n",
       "3          0  \n",
       "4          1  \n",
       "5          0  \n",
       "6          0  \n",
       "7          0  \n",
       "8          0  \n",
       "9          0  \n",
       "10         0  \n",
       "11         0  \n",
       "12         0  \n",
       "13         0  \n",
       "14         0  \n",
       "15         0  \n",
       "16         0  \n",
       "17         0  \n",
       "18         1  \n",
       "19         0  \n",
       "20         0  \n",
       "21         0  \n",
       "22         0  \n",
       "23         1  \n",
       "24         0  \n",
       "25         0  \n",
       "26         0  \n",
       "27         0  \n",
       "28         0  \n",
       "29         0  \n",
       "...      ...  \n",
       "49970      0  \n",
       "49971      1  \n",
       "49972      0  \n",
       "49973      0  \n",
       "49974      0  \n",
       "49975      0  \n",
       "49976      0  \n",
       "49977      0  \n",
       "49978      0  \n",
       "49979      0  \n",
       "49980      0  \n",
       "49981      1  \n",
       "49982      0  \n",
       "49983      1  \n",
       "49984      0  \n",
       "49985      0  \n",
       "49986      0  \n",
       "49987      0  \n",
       "49988      0  \n",
       "49989      0  \n",
       "49990      1  \n",
       "49991      0  \n",
       "49992      0  \n",
       "49993      1  \n",
       "49994      0  \n",
       "49995      0  \n",
       "49996      0  \n",
       "49997      0  \n",
       "49998      0  \n",
       "49999      1  \n",
       "\n",
       "[50000 rows x 12 columns]>"
      ]
     },
     "execution_count": 796,
     "metadata": {},
     "output_type": "execute_result"
    }
   ],
   "source": [
    "data.describe"
   ]
  },
  {
   "cell_type": "code",
   "execution_count": 797,
   "metadata": {},
   "outputs": [
    {
     "data": {
      "text/plain": [
       "0     02:00:00\n",
       "1     01:00:00\n",
       "2     19:00:00\n",
       "3     16:00:00\n",
       "4     18:00:00\n",
       "Name: hour, dtype: object"
      ]
     },
     "execution_count": 797,
     "metadata": {},
     "output_type": "execute_result"
    }
   ],
   "source": [
    "data['hour'].head()"
   ]
  },
  {
   "cell_type": "code",
   "execution_count": 798,
   "metadata": {},
   "outputs": [
    {
     "data": {
      "text/plain": [
       "Index(['user', 'first_open', 'dayofweek', 'hour', 'age', 'screen_list',\n",
       "       'numscreens', 'minigame', 'used_premium_feature', 'enrolled',\n",
       "       'enrolled_date', 'liked'],\n",
       "      dtype='object')"
      ]
     },
     "execution_count": 798,
     "metadata": {},
     "output_type": "execute_result"
    }
   ],
   "source": [
    "data.columns"
   ]
  },
  {
   "cell_type": "code",
   "execution_count": 799,
   "metadata": {},
   "outputs": [
    {
     "data": {
      "text/plain": [
       "0     2\n",
       "1     1\n",
       "2    19\n",
       "3    16\n",
       "4    18\n",
       "Name: hour, dtype: int64"
      ]
     },
     "execution_count": 799,
     "metadata": {},
     "output_type": "execute_result"
    }
   ],
   "source": [
    "data['hour'] = data.hour.str.slice(1,3).astype(int)\n",
    "data['hour'].head()"
   ]
  },
  {
   "cell_type": "code",
   "execution_count": 800,
   "metadata": {},
   "outputs": [
    {
     "data": {
      "text/plain": [
       "user                     int64\n",
       "first_open              object\n",
       "dayofweek                int64\n",
       "hour                     int64\n",
       "age                      int64\n",
       "screen_list             object\n",
       "numscreens               int64\n",
       "minigame                 int64\n",
       "used_premium_feature     int64\n",
       "enrolled                 int64\n",
       "enrolled_date           object\n",
       "liked                    int64\n",
       "dtype: object"
      ]
     },
     "execution_count": 800,
     "metadata": {},
     "output_type": "execute_result"
    }
   ],
   "source": [
    "data.dtypes"
   ]
  },
  {
   "cell_type": "code",
   "execution_count": 801,
   "metadata": {},
   "outputs": [],
   "source": [
    "numdata = data.copy().drop(['user','screen_list','enrolled_date','first_open','enrolled'],\n",
    "                           axis=1)"
   ]
  },
  {
   "cell_type": "code",
   "execution_count": 802,
   "metadata": {},
   "outputs": [
    {
     "data": {
      "text/html": [
       "<div>\n",
       "<style scoped>\n",
       "    .dataframe tbody tr th:only-of-type {\n",
       "        vertical-align: middle;\n",
       "    }\n",
       "\n",
       "    .dataframe tbody tr th {\n",
       "        vertical-align: top;\n",
       "    }\n",
       "\n",
       "    .dataframe thead th {\n",
       "        text-align: right;\n",
       "    }\n",
       "</style>\n",
       "<table border=\"1\" class=\"dataframe\">\n",
       "  <thead>\n",
       "    <tr style=\"text-align: right;\">\n",
       "      <th></th>\n",
       "      <th>dayofweek</th>\n",
       "      <th>hour</th>\n",
       "      <th>age</th>\n",
       "      <th>numscreens</th>\n",
       "      <th>minigame</th>\n",
       "      <th>used_premium_feature</th>\n",
       "      <th>liked</th>\n",
       "    </tr>\n",
       "  </thead>\n",
       "  <tbody>\n",
       "    <tr>\n",
       "      <th>0</th>\n",
       "      <td>3</td>\n",
       "      <td>2</td>\n",
       "      <td>23</td>\n",
       "      <td>15</td>\n",
       "      <td>0</td>\n",
       "      <td>0</td>\n",
       "      <td>0</td>\n",
       "    </tr>\n",
       "    <tr>\n",
       "      <th>1</th>\n",
       "      <td>6</td>\n",
       "      <td>1</td>\n",
       "      <td>24</td>\n",
       "      <td>13</td>\n",
       "      <td>0</td>\n",
       "      <td>0</td>\n",
       "      <td>0</td>\n",
       "    </tr>\n",
       "    <tr>\n",
       "      <th>2</th>\n",
       "      <td>1</td>\n",
       "      <td>19</td>\n",
       "      <td>23</td>\n",
       "      <td>3</td>\n",
       "      <td>0</td>\n",
       "      <td>1</td>\n",
       "      <td>1</td>\n",
       "    </tr>\n",
       "    <tr>\n",
       "      <th>3</th>\n",
       "      <td>4</td>\n",
       "      <td>16</td>\n",
       "      <td>28</td>\n",
       "      <td>40</td>\n",
       "      <td>0</td>\n",
       "      <td>0</td>\n",
       "      <td>0</td>\n",
       "    </tr>\n",
       "    <tr>\n",
       "      <th>4</th>\n",
       "      <td>1</td>\n",
       "      <td>18</td>\n",
       "      <td>31</td>\n",
       "      <td>32</td>\n",
       "      <td>0</td>\n",
       "      <td>0</td>\n",
       "      <td>1</td>\n",
       "    </tr>\n",
       "  </tbody>\n",
       "</table>\n",
       "</div>"
      ],
      "text/plain": [
       "   dayofweek  hour  age  numscreens  minigame  used_premium_feature  liked\n",
       "0          3     2   23          15         0                     0      0\n",
       "1          6     1   24          13         0                     0      0\n",
       "2          1    19   23           3         0                     1      1\n",
       "3          4    16   28          40         0                     0      0\n",
       "4          1    18   31          32         0                     0      1"
      ]
     },
     "execution_count": 802,
     "metadata": {},
     "output_type": "execute_result"
    }
   ],
   "source": [
    "numdata.head()"
   ]
  },
  {
   "cell_type": "markdown",
   "metadata": {},
   "source": [
    "## Data Visualization"
   ]
  },
  {
   "cell_type": "code",
   "execution_count": 803,
   "metadata": {},
   "outputs": [
    {
     "data": {
      "image/png": "[encoded data removed]",
      "text/plain": [
       "<Figure size 720x432 with 7 Axes>"
      ]
     },
     "metadata": {
      "needs_background": "light"
     },
     "output_type": "display_data"
    }
   ],
   "source": [
    "plt.figure(figsize=(10,6))\n",
    "for i in range(numdata.shape[1]):\n",
    "    plt.subplot(3,3,i+1)\n",
    "    f=plt.gca()\n",
    "    f.set_title(numdata.columns.values[i])\n",
    "    valu = np.size(numdata.iloc[:,i].unique())\n",
    "    plt.hist(numdata.iloc[:, i], bins=valu, color='#3F5D7D')\n",
    "    "
   ]
  },
  {
   "cell_type": "code",
   "execution_count": 804,
   "metadata": {},
   "outputs": [
    {
     "data": {
      "text/plain": [
       "dayofweek               0.011326\n",
       "hour                   -0.066694\n",
       "age                    -0.131303\n",
       "numscreens              0.209457\n",
       "minigame                0.104979\n",
       "used_premium_feature   -0.052703\n",
       "liked                  -0.007022\n",
       "dtype: float64"
      ]
     },
     "execution_count": 804,
     "metadata": {},
     "output_type": "execute_result"
    }
   ],
   "source": [
    "numdata.corrwith(data.enrolled)"
   ]
  },
  {
   "cell_type": "code",
   "execution_count": 805,
   "metadata": {},
   "outputs": [
    {
     "data": {
      "text/plain": [
       "<matplotlib.axes._subplots.AxesSubplot at 0x16e70bef0>"
      ]
     },
     "execution_count": 805,
     "metadata": {},
     "output_type": "execute_result"
    },
    {
     "data": {
      "image/png": "[encoded data removed]",
      "text/plain": [
       "<Figure size 720x504 with 1 Axes>"
      ]
     },
     "metadata": {
      "needs_background": "light"
     },
     "output_type": "display_data"
    }
   ],
   "source": [
    "numdata.corrwith(data.enrolled).plot.bar(figsize=(10,7),\n",
    "                                        title='Correlation with target feature',\n",
    "                                        fontsize=15,rot=45,\n",
    "                                        grid=True,\n",
    "                                        color='#004C99')\n",
    "                                        "
   ]
  },
  {
   "cell_type": "code",
   "execution_count": 806,
   "metadata": {},
   "outputs": [
    {
     "data": {
      "text/plain": [
       "(50000, 7)"
      ]
     },
     "execution_count": 806,
     "metadata": {},
     "output_type": "execute_result"
    }
   ],
   "source": [
    "numdata.shape"
   ]
  },
  {
   "cell_type": "code",
   "execution_count": 807,
   "metadata": {},
   "outputs": [
    {
     "data": {
      "text/plain": [
       "<matplotlib.axes._subplots.AxesSubplot at 0x16e53be80>"
      ]
     },
     "execution_count": 807,
     "metadata": {},
     "output_type": "execute_result"
    },
    {
     "data": {
      "image/png": "[encoded data removed]",
      "text/plain": [
       "<Figure size 720x576 with 2 Axes>"
      ]
     },
     "metadata": {
      "needs_background": "light"
     },
     "output_type": "display_data"
    }
   ],
   "source": [
    "import seaborn as sn\n",
    "plt.figure(figsize=(10,8))\n",
    "sn.heatmap(numdata.corr(),annot=True,vmax=0.2)"
   ]
  },
  {
   "cell_type": "code",
   "execution_count": 808,
   "metadata": {},
   "outputs": [
    {
     "data": {
      "text/plain": [
       "user                     int64\n",
       "first_open              object\n",
       "dayofweek                int64\n",
       "hour                     int64\n",
       "age                      int64\n",
       "screen_list             object\n",
       "numscreens               int64\n",
       "minigame                 int64\n",
       "used_premium_feature     int64\n",
       "enrolled                 int64\n",
       "enrolled_date           object\n",
       "liked                    int64\n",
       "dtype: object"
      ]
     },
     "execution_count": 808,
     "metadata": {},
     "output_type": "execute_result"
    }
   ],
   "source": [
    "data.dtypes"
   ]
  },
  {
   "cell_type": "code",
   "execution_count": 809,
   "metadata": {},
   "outputs": [
    {
     "data": {
      "text/plain": [
       "0    2012-12-27 02:14:51.273\n",
       "1    2012-12-02 01:16:00.905\n",
       "Name: first_open, dtype: object"
      ]
     },
     "execution_count": 809,
     "metadata": {},
     "output_type": "execute_result"
    }
   ],
   "source": [
    "data['first_open'].head(2)"
   ]
  },
  {
   "cell_type": "code",
   "execution_count": 810,
   "metadata": {},
   "outputs": [],
   "source": [
    "data['first_open'] = [parser.parse(i) for i in data['first_open']]"
   ]
  },
  {
   "cell_type": "code",
   "execution_count": 811,
   "metadata": {},
   "outputs": [
    {
     "data": {
      "text/plain": [
       "0   2012-12-27 02:14:51.273\n",
       "1   2012-12-02 01:16:00.905\n",
       "Name: first_open, dtype: datetime64[ns]"
      ]
     },
     "execution_count": 811,
     "metadata": {},
     "output_type": "execute_result"
    }
   ],
   "source": [
    "data['first_open'].head(2)  # we just converted it to date type"
   ]
  },
  {
   "cell_type": "code",
   "execution_count": 812,
   "metadata": {},
   "outputs": [
    {
     "data": {
      "text/plain": [
       "0                        NaN\n",
       "1                        NaN\n",
       "2                        NaN\n",
       "3    2013-07-05 16:11:49.513\n",
       "4    2013-02-26 18:56:37.841\n",
       "Name: enrolled_date, dtype: object"
      ]
     },
     "execution_count": 812,
     "metadata": {},
     "output_type": "execute_result"
    }
   ],
   "source": [
    "data['enrolled_date'].head()"
   ]
  },
  {
   "cell_type": "code",
   "execution_count": 813,
   "metadata": {},
   "outputs": [],
   "source": [
    "# some are string and some are NaN hence transformation should be conditional\n",
    "data['enrolled_date'] = [parser.parse(i) if isinstance(i, str) else i for i in data['enrolled_date']]"
   ]
  },
  {
   "cell_type": "code",
   "execution_count": 814,
   "metadata": {},
   "outputs": [
    {
     "data": {
      "text/plain": [
       "0   NaT\n",
       "1   NaT\n",
       "Name: enrolled_date, dtype: datetime64[ns]"
      ]
     },
     "execution_count": 814,
     "metadata": {},
     "output_type": "execute_result"
    }
   ],
   "source": [
    "data['enrolled_date'].head(2)"
   ]
  },
  {
   "cell_type": "code",
   "execution_count": 815,
   "metadata": {},
   "outputs": [],
   "source": [
    "# Lets calculate how much time does the customers took to enroll\n",
    "# enrolled date - first open \n",
    "data['difference'] = (data.enrolled_date - data.first_open)"
   ]
  },
  {
   "cell_type": "code",
   "execution_count": 816,
   "metadata": {},
   "outputs": [
    {
     "data": {
      "text/plain": [
       "0               NaT\n",
       "1               NaT\n",
       "2               NaT\n",
       "3   00:03:03.159000\n",
       "4   00:05:49.180000\n",
       "Name: difference, dtype: timedelta64[ns]"
      ]
     },
     "execution_count": 816,
     "metadata": {},
     "output_type": "execute_result"
    }
   ],
   "source": [
    "data['difference'].head()"
   ]
  },
  {
   "cell_type": "code",
   "execution_count": 817,
   "metadata": {},
   "outputs": [],
   "source": [
    "data['difference']=data['difference'].astype('timedelta64[h]')"
   ]
  },
  {
   "cell_type": "code",
   "execution_count": 818,
   "metadata": {},
   "outputs": [
    {
     "data": {
      "text/plain": [
       "49995    0.0\n",
       "49996    NaN\n",
       "49997    NaN\n",
       "49998    0.0\n",
       "49999    NaN\n",
       "Name: difference, dtype: float64"
      ]
     },
     "execution_count": 818,
     "metadata": {},
     "output_type": "execute_result"
    }
   ],
   "source": [
    "data['difference'].tail()"
   ]
  },
  {
   "cell_type": "code",
   "execution_count": 819,
   "metadata": {},
   "outputs": [
    {
     "data": {
      "text/plain": [
       "user                        0\n",
       "first_open                  0\n",
       "dayofweek                   0\n",
       "hour                        0\n",
       "age                         0\n",
       "screen_list                 0\n",
       "numscreens                  0\n",
       "minigame                    0\n",
       "used_premium_feature        0\n",
       "enrolled                    0\n",
       "enrolled_date           18926\n",
       "liked                       0\n",
       "difference              18926\n",
       "dtype: int64"
      ]
     },
     "execution_count": 819,
     "metadata": {},
     "output_type": "execute_result"
    }
   ],
   "source": [
    "np.sum(data.isnull())"
   ]
  },
  {
   "cell_type": "code",
   "execution_count": 820,
   "metadata": {},
   "outputs": [
    {
     "name": "stderr",
     "output_type": "stream",
     "text": [
      "/usr/local/lib/python3.7/site-packages/numpy/lib/histograms.py:824: RuntimeWarning: invalid value encountered in greater_equal\n",
      "  keep = (tmp_a >= first_edge)\n",
      "/usr/local/lib/python3.7/site-packages/numpy/lib/histograms.py:825: RuntimeWarning: invalid value encountered in less_equal\n",
      "  keep &= (tmp_a <= last_edge)\n"
     ]
    },
    {
     "data": {
      "text/plain": [
       "Text(0.5, 0, 'Number of Hours')"
      ]
     },
     "execution_count": 820,
     "metadata": {},
     "output_type": "execute_result"
    },
    {
     "data": {
      "image/png": "[encoded data removed]",
      "text/plain": [
       "<Figure size 432x288 with 1 Axes>"
      ]
     },
     "metadata": {
      "needs_background": "light"
     },
     "output_type": "display_data"
    }
   ],
   "source": [
    "# out of 50000 18926 people did not enroll yet. \n",
    "# we also need to check within what time people enrolled to our app\n",
    "responseHist = plt.hist(data['difference'], color='blue')\n",
    "plt.title(\"Distribution od Response time by customers to enroll\")\n",
    "plt.xlabel(\"Number of Hours\")"
   ]
  },
  {
   "cell_type": "code",
   "execution_count": 821,
   "metadata": {},
   "outputs": [
    {
     "data": {
      "text/plain": [
       "(array([21847.,   366.,   371.,   209.,   248.,   144.,   230.,   133.,\n",
       "          222.,   299.]),\n",
       " array([ 0. ,  2.5,  5. ,  7.5, 10. , 12.5, 15. , 17.5, 20. , 22.5, 25. ]),\n",
       " <a list of 10 Patch objects>)"
      ]
     },
     "execution_count": 821,
     "metadata": {},
     "output_type": "execute_result"
    },
    {
     "data": {
      "image/png": "[encoded data removed]",
      "text/plain": [
       "<Figure size 864x288 with 3 Axes>"
      ]
     },
     "metadata": {
      "needs_background": "light"
     },
     "output_type": "display_data"
    }
   ],
   "source": [
    "plt.figure(figsize=(12,4))\n",
    "plt.subplot(1,3,1)\n",
    "plt.hist(data['difference'], color='blue', range=[0,500])\n",
    "plt.subplot(1,3,2)\n",
    "plt.hist(data['difference'], color='blue', range=[0,100])\n",
    "plt.subplot(1,3,3)\n",
    "plt.hist(data['difference'], color='blue', range=[0,25])"
   ]
  },
  {
   "cell_type": "code",
   "execution_count": 822,
   "metadata": {},
   "outputs": [
    {
     "data": {
      "text/plain": [
       "(6224, 13)"
      ]
     },
     "execution_count": 822,
     "metadata": {},
     "output_type": "execute_result"
    }
   ],
   "source": [
    "#majority of people enrolled in the app within 5 hours of first time usage\n",
    "data[data['difference'] > 48 ].dropna().shape"
   ]
  },
  {
   "cell_type": "code",
   "execution_count": 823,
   "metadata": {},
   "outputs": [
    {
     "data": {
      "text/plain": [
       "(array([20885.,     0.,   625.,     0.,   337.,     0.,   207.,     0.,\n",
       "          159.,   129.]),\n",
       " array([0. , 0.5, 1. , 1.5, 2. , 2.5, 3. , 3.5, 4. , 4.5, 5. ]),\n",
       " <a list of 10 Patch objects>)"
      ]
     },
     "execution_count": 823,
     "metadata": {},
     "output_type": "execute_result"
    },
    {
     "data": {
      "image/png": "[encoded data removed]",
      "text/plain": [
       "<Figure size 432x288 with 1 Axes>"
      ]
     },
     "metadata": {
      "needs_background": "light"
     },
     "output_type": "display_data"
    }
   ],
   "source": [
    "plt.title(\"Distribution of user enrollment in first 5 hours\")\n",
    "plt.hist(data['difference'], color='blue', range=[0,5])"
   ]
  },
  {
   "cell_type": "markdown",
   "metadata": {},
   "source": [
    "## Data Cleaning "
   ]
  },
  {
   "cell_type": "code",
   "execution_count": 824,
   "metadata": {},
   "outputs": [],
   "source": [
    "data.loc[data['difference']>48,'enrolled'] = 0\n",
    "# for greater than 48 hours (2 days) all enrolled data is considered not enrolled"
   ]
  },
  {
   "cell_type": "code",
   "execution_count": 825,
   "metadata": {},
   "outputs": [
    {
     "data": {
      "text/plain": [
       "0               Loan2\n",
       "1            location\n",
       "2        Institutions\n",
       "3    Credit3Container\n",
       "4         VerifyPhone\n",
       "Name: top_screens, dtype: object"
      ]
     },
     "execution_count": 825,
     "metadata": {},
     "output_type": "execute_result"
    }
   ],
   "source": [
    "topscreendata=pd.read_csv('P39-CS3-Data/top_screens.csv').top_screens\n",
    "topscreendata.head()"
   ]
  },
  {
   "cell_type": "code",
   "execution_count": null,
   "metadata": {},
   "outputs": [],
   "source": []
  },
  {
   "cell_type": "code",
   "execution_count": null,
   "metadata": {},
   "outputs": [],
   "source": []
  },
  {
   "cell_type": "code",
   "execution_count": 826,
   "metadata": {},
   "outputs": [
    {
     "data": {
      "text/plain": [
       "0               Loan2\n",
       "1            location\n",
       "2        Institutions\n",
       "3    Credit3Container\n",
       "4         VerifyPhone\n",
       "Name: top_screens, dtype: object"
      ]
     },
     "execution_count": 826,
     "metadata": {},
     "output_type": "execute_result"
    }
   ],
   "source": [
    "topscreendata.head()"
   ]
  },
  {
   "cell_type": "code",
   "execution_count": 827,
   "metadata": {},
   "outputs": [],
   "source": [
    "# Eaerlier we saw the number of screens are highly correlated to the decision of enrollnent\n",
    "# now we want to consider the screen names that user used.\n",
    "# We only want to consider first 50 or Top screens \n"
   ]
  },
  {
   "cell_type": "code",
   "execution_count": 828,
   "metadata": {},
   "outputs": [],
   "source": [
    "data['screen_list'] = data.screen_list.astype(str)+','"
   ]
  },
  {
   "cell_type": "code",
   "execution_count": null,
   "metadata": {},
   "outputs": [],
   "source": []
  },
  {
   "cell_type": "code",
   "execution_count": 829,
   "metadata": {},
   "outputs": [],
   "source": [
    "for eachscreen in topscreendata:\n",
    "\tdata[eachscreen] = data.screen_list.str.contains(eachscreen).astype(int)\n",
    "\tdata['screen_list'] = data.screen_list.str.replace(eachscreen+\",\",\"\")\n"
   ]
  },
  {
   "cell_type": "code",
   "execution_count": 830,
   "metadata": {},
   "outputs": [
    {
     "data": {
      "text/plain": [
       "(50000, 71)"
      ]
     },
     "execution_count": 830,
     "metadata": {},
     "output_type": "execute_result"
    }
   ],
   "source": [
    "data.shape"
   ]
  },
  {
   "cell_type": "code",
   "execution_count": 831,
   "metadata": {},
   "outputs": [],
   "source": [
    "# There are multiple screens which are of similar type and they are highly correlated, hence \n",
    "# we want them to group into single column. "
   ]
  },
  {
   "cell_type": "code",
   "execution_count": 832,
   "metadata": {},
   "outputs": [],
   "source": [
    "savings_screens = [\"Saving1\",\n",
    "                    \"Saving2\",\n",
    "                    \"Saving2Amount\",\n",
    "                    \"Saving4\",\n",
    "                    \"Saving5\",\n",
    "                    \"Saving6\",\n",
    "                    \"Saving7\",\n",
    "                    \"Saving8\",\n",
    "                    \"Saving9\",\n",
    "                    \"Saving10\"]\n",
    "cm_screens = [\"Credit1\",\n",
    "               \"Credit2\",\n",
    "               \"Credit3\",\n",
    "               \"Credit3Container\",\n",
    "               \"Credit3Dashboard\"]\n",
    "cc_screens = [\"CC1\",\n",
    "                \"CC1Category\",\n",
    "                \"CC3\"]\n",
    "\n",
    "loan_screens = [\"Loan\",\n",
    "               \"Loan2\",\n",
    "               \"Loan3\",\n",
    "               \"Loan4\"]"
   ]
  },
  {
   "cell_type": "code",
   "execution_count": 833,
   "metadata": {},
   "outputs": [],
   "source": [
    "data['savingcount'] = data[savings_screens].sum(axis=1)\n",
    "data['cm_screenscount'] = data[cm_screens].sum(axis=1)\n",
    "data['cc_screenscount'] = data[cc_screens].sum(axis=1)\n",
    "data['loan_screenscount'] = data[loan_screens].sum(axis=1)"
   ]
  },
  {
   "cell_type": "code",
   "execution_count": 834,
   "metadata": {},
   "outputs": [],
   "source": [
    "data = data.drop(savings_screens,axis=1)\n",
    "data = data.drop(cm_screens,axis=1)\n",
    "data = data.drop(cc_screens,axis=1)\n",
    "data = data.drop(loan_screens,axis=1)\n",
    "data = data.drop(['screen_list'],axis=1)"
   ]
  },
  {
   "cell_type": "code",
   "execution_count": 835,
   "metadata": {},
   "outputs": [
    {
     "data": {
      "text/html": [
       "<div>\n",
       "<style scoped>\n",
       "    .dataframe tbody tr th:only-of-type {\n",
       "        vertical-align: middle;\n",
       "    }\n",
       "\n",
       "    .dataframe tbody tr th {\n",
       "        vertical-align: top;\n",
       "    }\n",
       "\n",
       "    .dataframe thead th {\n",
       "        text-align: right;\n",
       "    }\n",
       "</style>\n",
       "<table border=\"1\" class=\"dataframe\">\n",
       "  <thead>\n",
       "    <tr style=\"text-align: right;\">\n",
       "      <th></th>\n",
       "      <th>user</th>\n",
       "      <th>first_open</th>\n",
       "      <th>dayofweek</th>\n",
       "      <th>hour</th>\n",
       "      <th>age</th>\n",
       "      <th>numscreens</th>\n",
       "      <th>minigame</th>\n",
       "      <th>used_premium_feature</th>\n",
       "      <th>enrolled</th>\n",
       "      <th>enrolled_date</th>\n",
       "      <th>...</th>\n",
       "      <th>WebView</th>\n",
       "      <th>SecurityModal</th>\n",
       "      <th>ResendToken</th>\n",
       "      <th>TransactionList</th>\n",
       "      <th>NetworkFailure</th>\n",
       "      <th>ListPicker</th>\n",
       "      <th>savingcount</th>\n",
       "      <th>cm_screenscount</th>\n",
       "      <th>cc_screenscount</th>\n",
       "      <th>loan_screenscount</th>\n",
       "    </tr>\n",
       "  </thead>\n",
       "  <tbody>\n",
       "    <tr>\n",
       "      <th>0</th>\n",
       "      <td>235136</td>\n",
       "      <td>2012-12-27 02:14:51.273</td>\n",
       "      <td>3</td>\n",
       "      <td>2</td>\n",
       "      <td>23</td>\n",
       "      <td>15</td>\n",
       "      <td>0</td>\n",
       "      <td>0</td>\n",
       "      <td>0</td>\n",
       "      <td>NaT</td>\n",
       "      <td>...</td>\n",
       "      <td>0</td>\n",
       "      <td>0</td>\n",
       "      <td>0</td>\n",
       "      <td>0</td>\n",
       "      <td>0</td>\n",
       "      <td>0</td>\n",
       "      <td>0</td>\n",
       "      <td>0</td>\n",
       "      <td>0</td>\n",
       "      <td>1</td>\n",
       "    </tr>\n",
       "    <tr>\n",
       "      <th>1</th>\n",
       "      <td>333588</td>\n",
       "      <td>2012-12-02 01:16:00.905</td>\n",
       "      <td>6</td>\n",
       "      <td>1</td>\n",
       "      <td>24</td>\n",
       "      <td>13</td>\n",
       "      <td>0</td>\n",
       "      <td>0</td>\n",
       "      <td>0</td>\n",
       "      <td>NaT</td>\n",
       "      <td>...</td>\n",
       "      <td>0</td>\n",
       "      <td>0</td>\n",
       "      <td>0</td>\n",
       "      <td>0</td>\n",
       "      <td>0</td>\n",
       "      <td>0</td>\n",
       "      <td>0</td>\n",
       "      <td>0</td>\n",
       "      <td>0</td>\n",
       "      <td>1</td>\n",
       "    </tr>\n",
       "    <tr>\n",
       "      <th>2</th>\n",
       "      <td>254414</td>\n",
       "      <td>2013-03-19 19:19:09.157</td>\n",
       "      <td>1</td>\n",
       "      <td>19</td>\n",
       "      <td>23</td>\n",
       "      <td>3</td>\n",
       "      <td>0</td>\n",
       "      <td>1</td>\n",
       "      <td>0</td>\n",
       "      <td>NaT</td>\n",
       "      <td>...</td>\n",
       "      <td>0</td>\n",
       "      <td>0</td>\n",
       "      <td>0</td>\n",
       "      <td>0</td>\n",
       "      <td>0</td>\n",
       "      <td>0</td>\n",
       "      <td>0</td>\n",
       "      <td>0</td>\n",
       "      <td>0</td>\n",
       "      <td>1</td>\n",
       "    </tr>\n",
       "    <tr>\n",
       "      <th>3</th>\n",
       "      <td>234192</td>\n",
       "      <td>2013-07-05 16:08:46.354</td>\n",
       "      <td>4</td>\n",
       "      <td>16</td>\n",
       "      <td>28</td>\n",
       "      <td>40</td>\n",
       "      <td>0</td>\n",
       "      <td>0</td>\n",
       "      <td>1</td>\n",
       "      <td>2013-07-05 16:11:49.513</td>\n",
       "      <td>...</td>\n",
       "      <td>0</td>\n",
       "      <td>0</td>\n",
       "      <td>0</td>\n",
       "      <td>0</td>\n",
       "      <td>0</td>\n",
       "      <td>0</td>\n",
       "      <td>0</td>\n",
       "      <td>3</td>\n",
       "      <td>0</td>\n",
       "      <td>1</td>\n",
       "    </tr>\n",
       "    <tr>\n",
       "      <th>4</th>\n",
       "      <td>51549</td>\n",
       "      <td>2013-02-26 18:50:48.661</td>\n",
       "      <td>1</td>\n",
       "      <td>18</td>\n",
       "      <td>31</td>\n",
       "      <td>32</td>\n",
       "      <td>0</td>\n",
       "      <td>0</td>\n",
       "      <td>1</td>\n",
       "      <td>2013-02-26 18:56:37.841</td>\n",
       "      <td>...</td>\n",
       "      <td>0</td>\n",
       "      <td>0</td>\n",
       "      <td>0</td>\n",
       "      <td>0</td>\n",
       "      <td>0</td>\n",
       "      <td>0</td>\n",
       "      <td>0</td>\n",
       "      <td>2</td>\n",
       "      <td>0</td>\n",
       "      <td>1</td>\n",
       "    </tr>\n",
       "  </tbody>\n",
       "</table>\n",
       "<p>5 rows × 52 columns</p>\n",
       "</div>"
      ],
      "text/plain": [
       "     user              first_open  dayofweek  hour  age  numscreens  minigame  \\\n",
       "0  235136 2012-12-27 02:14:51.273          3     2   23          15         0   \n",
       "1  333588 2012-12-02 01:16:00.905          6     1   24          13         0   \n",
       "2  254414 2013-03-19 19:19:09.157          1    19   23           3         0   \n",
       "3  234192 2013-07-05 16:08:46.354          4    16   28          40         0   \n",
       "4   51549 2013-02-26 18:50:48.661          1    18   31          32         0   \n",
       "\n",
       "   used_premium_feature  enrolled           enrolled_date  ...  WebView  \\\n",
       "0                     0         0                     NaT  ...        0   \n",
       "1                     0         0                     NaT  ...        0   \n",
       "2                     1         0                     NaT  ...        0   \n",
       "3                     0         1 2013-07-05 16:11:49.513  ...        0   \n",
       "4                     0         1 2013-02-26 18:56:37.841  ...        0   \n",
       "\n",
       "   SecurityModal  ResendToken  TransactionList  NetworkFailure  ListPicker  \\\n",
       "0              0            0                0               0           0   \n",
       "1              0            0                0               0           0   \n",
       "2              0            0                0               0           0   \n",
       "3              0            0                0               0           0   \n",
       "4              0            0                0               0           0   \n",
       "\n",
       "   savingcount  cm_screenscount  cc_screenscount  loan_screenscount  \n",
       "0            0                0                0                  1  \n",
       "1            0                0                0                  1  \n",
       "2            0                0                0                  1  \n",
       "3            0                3                0                  1  \n",
       "4            0                2                0                  1  \n",
       "\n",
       "[5 rows x 52 columns]"
      ]
     },
     "execution_count": 835,
     "metadata": {},
     "output_type": "execute_result"
    }
   ],
   "source": [
    "data.head()"
   ]
  },
  {
   "cell_type": "code",
   "execution_count": 836,
   "metadata": {},
   "outputs": [
    {
     "data": {
      "text/html": [
       "<div>\n",
       "<style scoped>\n",
       "    .dataframe tbody tr th:only-of-type {\n",
       "        vertical-align: middle;\n",
       "    }\n",
       "\n",
       "    .dataframe tbody tr th {\n",
       "        vertical-align: top;\n",
       "    }\n",
       "\n",
       "    .dataframe thead th {\n",
       "        text-align: right;\n",
       "    }\n",
       "</style>\n",
       "<table border=\"1\" class=\"dataframe\">\n",
       "  <thead>\n",
       "    <tr style=\"text-align: right;\">\n",
       "      <th></th>\n",
       "      <th>user</th>\n",
       "      <th>dayofweek</th>\n",
       "      <th>hour</th>\n",
       "      <th>age</th>\n",
       "      <th>numscreens</th>\n",
       "      <th>minigame</th>\n",
       "      <th>used_premium_feature</th>\n",
       "      <th>enrolled</th>\n",
       "      <th>liked</th>\n",
       "      <th>difference</th>\n",
       "      <th>...</th>\n",
       "      <th>WebView</th>\n",
       "      <th>SecurityModal</th>\n",
       "      <th>ResendToken</th>\n",
       "      <th>TransactionList</th>\n",
       "      <th>NetworkFailure</th>\n",
       "      <th>ListPicker</th>\n",
       "      <th>savingcount</th>\n",
       "      <th>cm_screenscount</th>\n",
       "      <th>cc_screenscount</th>\n",
       "      <th>loan_screenscount</th>\n",
       "    </tr>\n",
       "  </thead>\n",
       "  <tbody>\n",
       "    <tr>\n",
       "      <th>count</th>\n",
       "      <td>50000.000000</td>\n",
       "      <td>50000.000000</td>\n",
       "      <td>50000.000000</td>\n",
       "      <td>50000.00000</td>\n",
       "      <td>50000.000000</td>\n",
       "      <td>50000.000000</td>\n",
       "      <td>50000.000000</td>\n",
       "      <td>50000.000000</td>\n",
       "      <td>50000.000000</td>\n",
       "      <td>31074.000000</td>\n",
       "      <td>...</td>\n",
       "      <td>50000.000000</td>\n",
       "      <td>50000.000000</td>\n",
       "      <td>50000.000000</td>\n",
       "      <td>50000.000000</td>\n",
       "      <td>50000.000000</td>\n",
       "      <td>50000.000000</td>\n",
       "      <td>50000.000000</td>\n",
       "      <td>50000.00000</td>\n",
       "      <td>50000.000000</td>\n",
       "      <td>50000.000000</td>\n",
       "    </tr>\n",
       "    <tr>\n",
       "      <th>mean</th>\n",
       "      <td>186889.729900</td>\n",
       "      <td>3.029860</td>\n",
       "      <td>12.557220</td>\n",
       "      <td>31.72436</td>\n",
       "      <td>21.095900</td>\n",
       "      <td>0.107820</td>\n",
       "      <td>0.172020</td>\n",
       "      <td>0.497000</td>\n",
       "      <td>0.165000</td>\n",
       "      <td>190.791659</td>\n",
       "      <td>...</td>\n",
       "      <td>0.096560</td>\n",
       "      <td>0.014220</td>\n",
       "      <td>0.013340</td>\n",
       "      <td>0.013400</td>\n",
       "      <td>0.008200</td>\n",
       "      <td>0.007580</td>\n",
       "      <td>0.365020</td>\n",
       "      <td>0.92776</td>\n",
       "      <td>0.176860</td>\n",
       "      <td>0.788400</td>\n",
       "    </tr>\n",
       "    <tr>\n",
       "      <th>std</th>\n",
       "      <td>107768.520361</td>\n",
       "      <td>2.031997</td>\n",
       "      <td>7.438072</td>\n",
       "      <td>10.80331</td>\n",
       "      <td>15.728812</td>\n",
       "      <td>0.310156</td>\n",
       "      <td>0.377402</td>\n",
       "      <td>0.499996</td>\n",
       "      <td>0.371184</td>\n",
       "      <td>621.887155</td>\n",
       "      <td>...</td>\n",
       "      <td>0.295361</td>\n",
       "      <td>0.118398</td>\n",
       "      <td>0.114727</td>\n",
       "      <td>0.114981</td>\n",
       "      <td>0.090183</td>\n",
       "      <td>0.086733</td>\n",
       "      <td>1.405511</td>\n",
       "      <td>1.21751</td>\n",
       "      <td>0.612787</td>\n",
       "      <td>0.677462</td>\n",
       "    </tr>\n",
       "    <tr>\n",
       "      <th>min</th>\n",
       "      <td>13.000000</td>\n",
       "      <td>0.000000</td>\n",
       "      <td>0.000000</td>\n",
       "      <td>16.00000</td>\n",
       "      <td>1.000000</td>\n",
       "      <td>0.000000</td>\n",
       "      <td>0.000000</td>\n",
       "      <td>0.000000</td>\n",
       "      <td>0.000000</td>\n",
       "      <td>0.000000</td>\n",
       "      <td>...</td>\n",
       "      <td>0.000000</td>\n",
       "      <td>0.000000</td>\n",
       "      <td>0.000000</td>\n",
       "      <td>0.000000</td>\n",
       "      <td>0.000000</td>\n",
       "      <td>0.000000</td>\n",
       "      <td>0.000000</td>\n",
       "      <td>0.00000</td>\n",
       "      <td>0.000000</td>\n",
       "      <td>0.000000</td>\n",
       "    </tr>\n",
       "    <tr>\n",
       "      <th>25%</th>\n",
       "      <td>93526.750000</td>\n",
       "      <td>1.000000</td>\n",
       "      <td>5.000000</td>\n",
       "      <td>24.00000</td>\n",
       "      <td>10.000000</td>\n",
       "      <td>0.000000</td>\n",
       "      <td>0.000000</td>\n",
       "      <td>0.000000</td>\n",
       "      <td>0.000000</td>\n",
       "      <td>0.000000</td>\n",
       "      <td>...</td>\n",
       "      <td>0.000000</td>\n",
       "      <td>0.000000</td>\n",
       "      <td>0.000000</td>\n",
       "      <td>0.000000</td>\n",
       "      <td>0.000000</td>\n",
       "      <td>0.000000</td>\n",
       "      <td>0.000000</td>\n",
       "      <td>0.00000</td>\n",
       "      <td>0.000000</td>\n",
       "      <td>0.000000</td>\n",
       "    </tr>\n",
       "    <tr>\n",
       "      <th>50%</th>\n",
       "      <td>187193.500000</td>\n",
       "      <td>3.000000</td>\n",
       "      <td>14.000000</td>\n",
       "      <td>29.00000</td>\n",
       "      <td>18.000000</td>\n",
       "      <td>0.000000</td>\n",
       "      <td>0.000000</td>\n",
       "      <td>0.000000</td>\n",
       "      <td>0.000000</td>\n",
       "      <td>0.000000</td>\n",
       "      <td>...</td>\n",
       "      <td>0.000000</td>\n",
       "      <td>0.000000</td>\n",
       "      <td>0.000000</td>\n",
       "      <td>0.000000</td>\n",
       "      <td>0.000000</td>\n",
       "      <td>0.000000</td>\n",
       "      <td>0.000000</td>\n",
       "      <td>0.00000</td>\n",
       "      <td>0.000000</td>\n",
       "      <td>1.000000</td>\n",
       "    </tr>\n",
       "    <tr>\n",
       "      <th>75%</th>\n",
       "      <td>279984.250000</td>\n",
       "      <td>5.000000</td>\n",
       "      <td>19.000000</td>\n",
       "      <td>37.00000</td>\n",
       "      <td>28.000000</td>\n",
       "      <td>0.000000</td>\n",
       "      <td>0.000000</td>\n",
       "      <td>1.000000</td>\n",
       "      <td>0.000000</td>\n",
       "      <td>16.000000</td>\n",
       "      <td>...</td>\n",
       "      <td>0.000000</td>\n",
       "      <td>0.000000</td>\n",
       "      <td>0.000000</td>\n",
       "      <td>0.000000</td>\n",
       "      <td>0.000000</td>\n",
       "      <td>0.000000</td>\n",
       "      <td>0.000000</td>\n",
       "      <td>1.00000</td>\n",
       "      <td>0.000000</td>\n",
       "      <td>1.000000</td>\n",
       "    </tr>\n",
       "    <tr>\n",
       "      <th>max</th>\n",
       "      <td>373662.000000</td>\n",
       "      <td>6.000000</td>\n",
       "      <td>23.000000</td>\n",
       "      <td>101.00000</td>\n",
       "      <td>325.000000</td>\n",
       "      <td>1.000000</td>\n",
       "      <td>1.000000</td>\n",
       "      <td>1.000000</td>\n",
       "      <td>1.000000</td>\n",
       "      <td>5434.000000</td>\n",
       "      <td>...</td>\n",
       "      <td>1.000000</td>\n",
       "      <td>1.000000</td>\n",
       "      <td>1.000000</td>\n",
       "      <td>1.000000</td>\n",
       "      <td>1.000000</td>\n",
       "      <td>1.000000</td>\n",
       "      <td>10.000000</td>\n",
       "      <td>5.00000</td>\n",
       "      <td>3.000000</td>\n",
       "      <td>3.000000</td>\n",
       "    </tr>\n",
       "  </tbody>\n",
       "</table>\n",
       "<p>8 rows × 50 columns</p>\n",
       "</div>"
      ],
      "text/plain": [
       "                user     dayofweek          hour          age    numscreens  \\\n",
       "count   50000.000000  50000.000000  50000.000000  50000.00000  50000.000000   \n",
       "mean   186889.729900      3.029860     12.557220     31.72436     21.095900   \n",
       "std    107768.520361      2.031997      7.438072     10.80331     15.728812   \n",
       "min        13.000000      0.000000      0.000000     16.00000      1.000000   \n",
       "25%     93526.750000      1.000000      5.000000     24.00000     10.000000   \n",
       "50%    187193.500000      3.000000     14.000000     29.00000     18.000000   \n",
       "75%    279984.250000      5.000000     19.000000     37.00000     28.000000   \n",
       "max    373662.000000      6.000000     23.000000    101.00000    325.000000   \n",
       "\n",
       "           minigame  used_premium_feature      enrolled         liked  \\\n",
       "count  50000.000000          50000.000000  50000.000000  50000.000000   \n",
       "mean       0.107820              0.172020      0.497000      0.165000   \n",
       "std        0.310156              0.377402      0.499996      0.371184   \n",
       "min        0.000000              0.000000      0.000000      0.000000   \n",
       "25%        0.000000              0.000000      0.000000      0.000000   \n",
       "50%        0.000000              0.000000      0.000000      0.000000   \n",
       "75%        0.000000              0.000000      1.000000      0.000000   \n",
       "max        1.000000              1.000000      1.000000      1.000000   \n",
       "\n",
       "         difference  ...       WebView  SecurityModal   ResendToken  \\\n",
       "count  31074.000000  ...  50000.000000   50000.000000  50000.000000   \n",
       "mean     190.791659  ...      0.096560       0.014220      0.013340   \n",
       "std      621.887155  ...      0.295361       0.118398      0.114727   \n",
       "min        0.000000  ...      0.000000       0.000000      0.000000   \n",
       "25%        0.000000  ...      0.000000       0.000000      0.000000   \n",
       "50%        0.000000  ...      0.000000       0.000000      0.000000   \n",
       "75%       16.000000  ...      0.000000       0.000000      0.000000   \n",
       "max     5434.000000  ...      1.000000       1.000000      1.000000   \n",
       "\n",
       "       TransactionList  NetworkFailure    ListPicker   savingcount  \\\n",
       "count     50000.000000    50000.000000  50000.000000  50000.000000   \n",
       "mean          0.013400        0.008200      0.007580      0.365020   \n",
       "std           0.114981        0.090183      0.086733      1.405511   \n",
       "min           0.000000        0.000000      0.000000      0.000000   \n",
       "25%           0.000000        0.000000      0.000000      0.000000   \n",
       "50%           0.000000        0.000000      0.000000      0.000000   \n",
       "75%           0.000000        0.000000      0.000000      0.000000   \n",
       "max           1.000000        1.000000      1.000000     10.000000   \n",
       "\n",
       "       cm_screenscount  cc_screenscount  loan_screenscount  \n",
       "count      50000.00000     50000.000000       50000.000000  \n",
       "mean           0.92776         0.176860           0.788400  \n",
       "std            1.21751         0.612787           0.677462  \n",
       "min            0.00000         0.000000           0.000000  \n",
       "25%            0.00000         0.000000           0.000000  \n",
       "50%            0.00000         0.000000           1.000000  \n",
       "75%            1.00000         0.000000           1.000000  \n",
       "max            5.00000         3.000000           3.000000  \n",
       "\n",
       "[8 rows x 50 columns]"
      ]
     },
     "execution_count": 836,
     "metadata": {},
     "output_type": "execute_result"
    }
   ],
   "source": [
    "data.describe()"
   ]
  },
  {
   "cell_type": "code",
   "execution_count": 837,
   "metadata": {},
   "outputs": [
    {
     "data": {
      "text/plain": [
       "Index(['user', 'first_open', 'dayofweek', 'hour', 'age', 'numscreens',\n",
       "       'minigame', 'used_premium_feature', 'enrolled', 'enrolled_date',\n",
       "       'liked', 'difference', 'location', 'Institutions', 'VerifyPhone',\n",
       "       'BankVerification', 'VerifyDateOfBirth', 'ProfilePage', 'VerifyCountry',\n",
       "       'Cycle', 'idscreen', 'Splash', 'RewardsContainer', 'EditProfile',\n",
       "       'Finances', 'Alerts', 'Leaderboard', 'VerifyMobile', 'VerifyHousing',\n",
       "       'RewardDetail', 'VerifyHousingAmount', 'ProfileMaritalStatus',\n",
       "       'ProfileChildren ', 'ProfileEducation', 'ProfileEducationMajor',\n",
       "       'Rewards', 'AccountView', 'VerifyAnnualIncome', 'VerifyIncomeType',\n",
       "       'ProfileJobTitle', 'Login', 'ProfileEmploymentLength', 'WebView',\n",
       "       'SecurityModal', 'ResendToken', 'TransactionList', 'NetworkFailure',\n",
       "       'ListPicker', 'savingcount', 'cm_screenscount', 'cc_screenscount',\n",
       "       'loan_screenscount'],\n",
       "      dtype='object')"
      ]
     },
     "execution_count": 837,
     "metadata": {},
     "output_type": "execute_result"
    }
   ],
   "source": [
    "data.columns"
   ]
  },
  {
   "cell_type": "code",
   "execution_count": 838,
   "metadata": {},
   "outputs": [],
   "source": [
    "data.to_csv('CleanAppData.csv',index=False)"
   ]
  },
  {
   "cell_type": "code",
   "execution_count": 839,
   "metadata": {},
   "outputs": [
    {
     "name": "stdout",
     "output_type": "stream",
     "text": [
      "CleanAppData.csv\r\n",
      "\u001b[34mP39-CS3-Data\u001b[m\u001b[m\r\n",
      "\u001b[34mP39-CS3-Python-Code\u001b[m\u001b[m\r\n",
      "P39-CS3-Python-Code.zip\r\n",
      "Predict Users more likely to pay subscription.ipynb\r\n",
      "Untitled.ipynb\r\n"
     ]
    }
   ],
   "source": [
    "!ls"
   ]
  },
  {
   "cell_type": "markdown",
   "metadata": {},
   "source": [
    "## Data Preprocessing "
   ]
  },
  {
   "cell_type": "code",
   "execution_count": 840,
   "metadata": {},
   "outputs": [],
   "source": [
    "from sklearn.preprocessing import StandardScaler\n",
    "from sklearn.model_selection import train_test_split"
   ]
  },
  {
   "cell_type": "code",
   "execution_count": 841,
   "metadata": {},
   "outputs": [],
   "source": [
    "data = data.dropna()\n",
    "response = data['enrolled']\n",
    "data = data.drop(['enrolled','first_open','enrolled_date'],axis=1)"
   ]
  },
  {
   "cell_type": "code",
   "execution_count": 842,
   "metadata": {},
   "outputs": [],
   "source": [
    "X_train,X_test,y_train,y_test = train_test_split(data,response,test_size=0.4,random_state=0)"
   ]
  },
  {
   "cell_type": "code",
   "execution_count": 843,
   "metadata": {},
   "outputs": [],
   "source": [
    "# we need to get rid of userID before proceeeding further \n",
    "userXtrain = X_train['user']\n",
    "userXtest = X_test['user']\n",
    "X_train = X_train.drop(['user'],axis=1)\n",
    "X_test = X_test.drop(['user'],axis=1)\n",
    "# we retained user id so as to compare post analysis to which user should we target"
   ]
  },
  {
   "cell_type": "code",
   "execution_count": 844,
   "metadata": {},
   "outputs": [],
   "source": [
    "sc = StandardScaler()\n",
    "X_train_new = pd.DataFrame(sc.fit_transform(X_train))\n",
    "X_test_new = pd.DataFrame(sc.transform(X_test))"
   ]
  },
  {
   "cell_type": "code",
   "execution_count": 845,
   "metadata": {},
   "outputs": [],
   "source": [
    "# We retreive the columnnames and indexes \n",
    "\n",
    "X_train_new.columns = X_train.columns.values\n",
    "X_test_new.columns = X_test.columns.values\n",
    "X_train_new.index = X_train.index.values\n",
    "X_test_new.index = X_test.index.values\n",
    "\n",
    "X_train = X_train_new\n",
    "del X_train_new\n",
    "X_test = X_test_new\n",
    "del X_test_new"
   ]
  },
  {
   "cell_type": "markdown",
   "metadata": {},
   "source": [
    "## Model Building "
   ]
  },
  {
   "cell_type": "code",
   "execution_count": 846,
   "metadata": {},
   "outputs": [],
   "source": [
    "from sklearn.linear_model import LogisticRegression\n",
    "clf = LogisticRegression(penalty='l1')"
   ]
  },
  {
   "cell_type": "code",
   "execution_count": 847,
   "metadata": {},
   "outputs": [],
   "source": [
    "#np.sum(X_train.isnull())"
   ]
  },
  {
   "cell_type": "code",
   "execution_count": 848,
   "metadata": {},
   "outputs": [
    {
     "name": "stdout",
     "output_type": "stream",
     "text": [
      "              precision    recall  f1-score   support\n",
      "\n",
      "           0       1.00      0.98      0.99      2483\n",
      "           1       1.00      1.00      1.00      9947\n",
      "\n",
      "    accuracy                           1.00     12430\n",
      "   macro avg       1.00      0.99      0.99     12430\n",
      "weighted avg       1.00      1.00      1.00     12430\n",
      "\n",
      "[[2444   39]\n",
      " [   1 9946]]\n"
     ]
    }
   ],
   "source": [
    "clf.fit(X_train,y_train)\n",
    "ypred = clf.predict(X_test)\n",
    "from sklearn.metrics import classification_report, confusion_matrix\n",
    "print(classification_report(y_test,ypred))\n",
    "print(confusion_matrix(y_test,ypred))"
   ]
  },
  {
   "cell_type": "code",
   "execution_count": 849,
   "metadata": {},
   "outputs": [
    {
     "data": {
      "text/plain": [
       "<matplotlib.axes._subplots.AxesSubplot at 0x16bcccc88>"
      ]
     },
     "execution_count": 849,
     "metadata": {},
     "output_type": "execute_result"
    },
    {
     "data": {
      "image/png": "[encoded data removed]",
      "text/plain": [
       "<Figure size 360x216 with 2 Axes>"
      ]
     },
     "metadata": {
      "needs_background": "light"
     },
     "output_type": "display_data"
    }
   ],
   "source": [
    "cm=confusion_matrix(y_test,ypred)\n",
    "df_cm = pd.DataFrame(cm, index = (0, 1), columns = (0, 1))\n",
    "plt.figure(figsize = (5,3))\n",
    "sn.set(font_scale=1.4)\n",
    "sn.heatmap(df_cm, annot=True, fmt='g')"
   ]
  },
  {
   "cell_type": "code",
   "execution_count": 850,
   "metadata": {},
   "outputs": [
    {
     "name": "stdout",
     "output_type": "stream",
     "text": [
      "CV Accuracy: 1.00 with +/- 0.003\n"
     ]
    }
   ],
   "source": [
    "# tring K fold cross validation \n",
    "from sklearn.model_selection import cross_val_score\n",
    "accuracies = cross_val_score(estimator = clf,X=X_train,y=y_train,cv=10)\n",
    "print(\"CV Accuracy: %0.2f with +/- %0.3f\" % (accuracies.mean(), accuracies.std() * 2))\n"
   ]
  },
  {
   "cell_type": "code",
   "execution_count": 851,
   "metadata": {},
   "outputs": [
    {
     "data": {
      "text/html": [
       "<div>\n",
       "<style scoped>\n",
       "    .dataframe tbody tr th:only-of-type {\n",
       "        vertical-align: middle;\n",
       "    }\n",
       "\n",
       "    .dataframe tbody tr th {\n",
       "        vertical-align: top;\n",
       "    }\n",
       "\n",
       "    .dataframe thead th {\n",
       "        text-align: right;\n",
       "    }\n",
       "</style>\n",
       "<table border=\"1\" class=\"dataframe\">\n",
       "  <thead>\n",
       "    <tr style=\"text-align: right;\">\n",
       "      <th></th>\n",
       "      <th>features</th>\n",
       "      <th>Coefficients</th>\n",
       "    </tr>\n",
       "  </thead>\n",
       "  <tbody>\n",
       "    <tr>\n",
       "      <th>0</th>\n",
       "      <td>dayofweek</td>\n",
       "      <td>0.059027</td>\n",
       "    </tr>\n",
       "    <tr>\n",
       "      <th>1</th>\n",
       "      <td>hour</td>\n",
       "      <td>-0.008862</td>\n",
       "    </tr>\n",
       "    <tr>\n",
       "      <th>2</th>\n",
       "      <td>age</td>\n",
       "      <td>-0.045675</td>\n",
       "    </tr>\n",
       "    <tr>\n",
       "      <th>3</th>\n",
       "      <td>numscreens</td>\n",
       "      <td>0.000000</td>\n",
       "    </tr>\n",
       "    <tr>\n",
       "      <th>4</th>\n",
       "      <td>minigame</td>\n",
       "      <td>-0.069372</td>\n",
       "    </tr>\n",
       "  </tbody>\n",
       "</table>\n",
       "</div>"
      ],
      "text/plain": [
       "     features  Coefficients\n",
       "0   dayofweek      0.059027\n",
       "1        hour     -0.008862\n",
       "2         age     -0.045675\n",
       "3  numscreens      0.000000\n",
       "4    minigame     -0.069372"
      ]
     },
     "execution_count": 851,
     "metadata": {},
     "output_type": "execute_result"
    }
   ],
   "source": [
    "coeficients = pd.DataFrame({'features': data.drop(columns='user').columns,\n",
    "                        'Coefficients': np.transpose(clf.coef_).flatten()})\n",
    "coeficients.head()"
   ]
  },
  {
   "cell_type": "code",
   "execution_count": 852,
   "metadata": {},
   "outputs": [],
   "source": [
    "import warnings\n",
    "warnings.simplefilter(action='ignore', category=FutureWarning)"
   ]
  },
  {
   "cell_type": "code",
   "execution_count": 856,
   "metadata": {},
   "outputs": [],
   "source": [
    "from sklearn.model_selection import GridSearchCV\n",
    "penalty = ['l1','l2']\n",
    "C = [0.001, 0.01, 0.1, 1, 10]\n",
    "parameters=dict(C=C,penalty=penalty)\n",
    "gridSearch = GridSearchCV(estimator=clf,\n",
    "                         param_grid=parameters,\n",
    "                         scoring=\"accuracy\",\n",
    "                         cv=10,\n",
    "                         n_jobs=-1)\n"
   ]
  },
  {
   "cell_type": "code",
   "execution_count": 857,
   "metadata": {},
   "outputs": [
    {
     "name": "stdout",
     "output_type": "stream",
     "text": [
      "It took 65.29 seconds\n"
     ]
    }
   ],
   "source": [
    "import time\n",
    "tstart=time.time()\n",
    "gridSearch=gridSearch.fit(X_train,y_train)\n",
    "tend=time.time()\n",
    "print(\"It took %0.2f seconds\"%(tend-tstart))"
   ]
  },
  {
   "cell_type": "code",
   "execution_count": 858,
   "metadata": {},
   "outputs": [
    {
     "data": {
      "text/plain": [
       "(0.9980154473288994, {'C': 10, 'penalty': 'l1'})"
      ]
     },
     "execution_count": 858,
     "metadata": {},
     "output_type": "execute_result"
    }
   ],
   "source": [
    "bestaccuracy = gridSearch.best_score_\n",
    "bestparam = gridSearch.best_params_\n",
    "bestaccuracy, bestparam"
   ]
  },
  {
   "cell_type": "code",
   "execution_count": 869,
   "metadata": {},
   "outputs": [],
   "source": [
    "finalresult = pd.concat([X_test,userXtest],axis=1)\n",
    "finalresult['predicted_reach'] = ypred\n",
    "finalresult = finalresult[['user','predicted_reach']]"
   ]
  },
  {
   "cell_type": "code",
   "execution_count": 866,
   "metadata": {},
   "outputs": [
    {
     "data": {
      "text/html": [
       "<div>\n",
       "<style scoped>\n",
       "    .dataframe tbody tr th:only-of-type {\n",
       "        vertical-align: middle;\n",
       "    }\n",
       "\n",
       "    .dataframe tbody tr th {\n",
       "        vertical-align: top;\n",
       "    }\n",
       "\n",
       "    .dataframe thead th {\n",
       "        text-align: right;\n",
       "    }\n",
       "</style>\n",
       "<table border=\"1\" class=\"dataframe\">\n",
       "  <thead>\n",
       "    <tr style=\"text-align: right;\">\n",
       "      <th></th>\n",
       "      <th>user</th>\n",
       "      <th>predicted_reach</th>\n",
       "    </tr>\n",
       "  </thead>\n",
       "  <tbody>\n",
       "    <tr>\n",
       "      <th>31569</th>\n",
       "      <td>48571</td>\n",
       "      <td>1</td>\n",
       "    </tr>\n",
       "    <tr>\n",
       "      <th>37260</th>\n",
       "      <td>360791</td>\n",
       "      <td>1</td>\n",
       "    </tr>\n",
       "    <tr>\n",
       "      <th>40921</th>\n",
       "      <td>251974</td>\n",
       "      <td>1</td>\n",
       "    </tr>\n",
       "    <tr>\n",
       "      <th>7351</th>\n",
       "      <td>107014</td>\n",
       "      <td>0</td>\n",
       "    </tr>\n",
       "    <tr>\n",
       "      <th>31204</th>\n",
       "      <td>131222</td>\n",
       "      <td>1</td>\n",
       "    </tr>\n",
       "    <tr>\n",
       "      <th>21167</th>\n",
       "      <td>366147</td>\n",
       "      <td>1</td>\n",
       "    </tr>\n",
       "    <tr>\n",
       "      <th>19942</th>\n",
       "      <td>341789</td>\n",
       "      <td>0</td>\n",
       "    </tr>\n",
       "    <tr>\n",
       "      <th>44349</th>\n",
       "      <td>319984</td>\n",
       "      <td>0</td>\n",
       "    </tr>\n",
       "    <tr>\n",
       "      <th>44409</th>\n",
       "      <td>207198</td>\n",
       "      <td>0</td>\n",
       "    </tr>\n",
       "    <tr>\n",
       "      <th>24703</th>\n",
       "      <td>139513</td>\n",
       "      <td>1</td>\n",
       "    </tr>\n",
       "    <tr>\n",
       "      <th>26954</th>\n",
       "      <td>168538</td>\n",
       "      <td>1</td>\n",
       "    </tr>\n",
       "    <tr>\n",
       "      <th>27154</th>\n",
       "      <td>171753</td>\n",
       "      <td>0</td>\n",
       "    </tr>\n",
       "    <tr>\n",
       "      <th>16748</th>\n",
       "      <td>8961</td>\n",
       "      <td>1</td>\n",
       "    </tr>\n",
       "    <tr>\n",
       "      <th>25021</th>\n",
       "      <td>237559</td>\n",
       "      <td>1</td>\n",
       "    </tr>\n",
       "    <tr>\n",
       "      <th>26247</th>\n",
       "      <td>356839</td>\n",
       "      <td>1</td>\n",
       "    </tr>\n",
       "    <tr>\n",
       "      <th>39235</th>\n",
       "      <td>221276</td>\n",
       "      <td>0</td>\n",
       "    </tr>\n",
       "    <tr>\n",
       "      <th>33141</th>\n",
       "      <td>275975</td>\n",
       "      <td>0</td>\n",
       "    </tr>\n",
       "    <tr>\n",
       "      <th>41495</th>\n",
       "      <td>373525</td>\n",
       "      <td>1</td>\n",
       "    </tr>\n",
       "    <tr>\n",
       "      <th>23203</th>\n",
       "      <td>96642</td>\n",
       "      <td>1</td>\n",
       "    </tr>\n",
       "    <tr>\n",
       "      <th>35892</th>\n",
       "      <td>296390</td>\n",
       "      <td>0</td>\n",
       "    </tr>\n",
       "    <tr>\n",
       "      <th>30961</th>\n",
       "      <td>67668</td>\n",
       "      <td>1</td>\n",
       "    </tr>\n",
       "    <tr>\n",
       "      <th>24259</th>\n",
       "      <td>297410</td>\n",
       "      <td>1</td>\n",
       "    </tr>\n",
       "    <tr>\n",
       "      <th>27204</th>\n",
       "      <td>78811</td>\n",
       "      <td>1</td>\n",
       "    </tr>\n",
       "    <tr>\n",
       "      <th>4311</th>\n",
       "      <td>8396</td>\n",
       "      <td>1</td>\n",
       "    </tr>\n",
       "    <tr>\n",
       "      <th>27782</th>\n",
       "      <td>65598</td>\n",
       "      <td>1</td>\n",
       "    </tr>\n",
       "    <tr>\n",
       "      <th>24416</th>\n",
       "      <td>255288</td>\n",
       "      <td>1</td>\n",
       "    </tr>\n",
       "    <tr>\n",
       "      <th>21465</th>\n",
       "      <td>40127</td>\n",
       "      <td>1</td>\n",
       "    </tr>\n",
       "    <tr>\n",
       "      <th>26091</th>\n",
       "      <td>183313</td>\n",
       "      <td>0</td>\n",
       "    </tr>\n",
       "    <tr>\n",
       "      <th>2874</th>\n",
       "      <td>173989</td>\n",
       "      <td>1</td>\n",
       "    </tr>\n",
       "    <tr>\n",
       "      <th>36034</th>\n",
       "      <td>28409</td>\n",
       "      <td>0</td>\n",
       "    </tr>\n",
       "    <tr>\n",
       "      <th>...</th>\n",
       "      <td>...</td>\n",
       "      <td>...</td>\n",
       "    </tr>\n",
       "    <tr>\n",
       "      <th>5953</th>\n",
       "      <td>268101</td>\n",
       "      <td>1</td>\n",
       "    </tr>\n",
       "    <tr>\n",
       "      <th>47533</th>\n",
       "      <td>211817</td>\n",
       "      <td>1</td>\n",
       "    </tr>\n",
       "    <tr>\n",
       "      <th>39192</th>\n",
       "      <td>302612</td>\n",
       "      <td>1</td>\n",
       "    </tr>\n",
       "    <tr>\n",
       "      <th>17628</th>\n",
       "      <td>372347</td>\n",
       "      <td>1</td>\n",
       "    </tr>\n",
       "    <tr>\n",
       "      <th>17322</th>\n",
       "      <td>111790</td>\n",
       "      <td>1</td>\n",
       "    </tr>\n",
       "    <tr>\n",
       "      <th>35747</th>\n",
       "      <td>76094</td>\n",
       "      <td>1</td>\n",
       "    </tr>\n",
       "    <tr>\n",
       "      <th>12589</th>\n",
       "      <td>248109</td>\n",
       "      <td>1</td>\n",
       "    </tr>\n",
       "    <tr>\n",
       "      <th>2913</th>\n",
       "      <td>142541</td>\n",
       "      <td>1</td>\n",
       "    </tr>\n",
       "    <tr>\n",
       "      <th>33791</th>\n",
       "      <td>54486</td>\n",
       "      <td>1</td>\n",
       "    </tr>\n",
       "    <tr>\n",
       "      <th>3798</th>\n",
       "      <td>175437</td>\n",
       "      <td>1</td>\n",
       "    </tr>\n",
       "    <tr>\n",
       "      <th>24650</th>\n",
       "      <td>369842</td>\n",
       "      <td>1</td>\n",
       "    </tr>\n",
       "    <tr>\n",
       "      <th>9732</th>\n",
       "      <td>298442</td>\n",
       "      <td>0</td>\n",
       "    </tr>\n",
       "    <tr>\n",
       "      <th>42089</th>\n",
       "      <td>176742</td>\n",
       "      <td>1</td>\n",
       "    </tr>\n",
       "    <tr>\n",
       "      <th>40275</th>\n",
       "      <td>112423</td>\n",
       "      <td>1</td>\n",
       "    </tr>\n",
       "    <tr>\n",
       "      <th>6904</th>\n",
       "      <td>248918</td>\n",
       "      <td>1</td>\n",
       "    </tr>\n",
       "    <tr>\n",
       "      <th>27051</th>\n",
       "      <td>182585</td>\n",
       "      <td>1</td>\n",
       "    </tr>\n",
       "    <tr>\n",
       "      <th>47901</th>\n",
       "      <td>360959</td>\n",
       "      <td>1</td>\n",
       "    </tr>\n",
       "    <tr>\n",
       "      <th>25575</th>\n",
       "      <td>195588</td>\n",
       "      <td>0</td>\n",
       "    </tr>\n",
       "    <tr>\n",
       "      <th>21223</th>\n",
       "      <td>233661</td>\n",
       "      <td>1</td>\n",
       "    </tr>\n",
       "    <tr>\n",
       "      <th>8854</th>\n",
       "      <td>32793</td>\n",
       "      <td>1</td>\n",
       "    </tr>\n",
       "    <tr>\n",
       "      <th>33286</th>\n",
       "      <td>234080</td>\n",
       "      <td>0</td>\n",
       "    </tr>\n",
       "    <tr>\n",
       "      <th>21136</th>\n",
       "      <td>322013</td>\n",
       "      <td>1</td>\n",
       "    </tr>\n",
       "    <tr>\n",
       "      <th>20155</th>\n",
       "      <td>26747</td>\n",
       "      <td>1</td>\n",
       "    </tr>\n",
       "    <tr>\n",
       "      <th>44005</th>\n",
       "      <td>342893</td>\n",
       "      <td>1</td>\n",
       "    </tr>\n",
       "    <tr>\n",
       "      <th>39238</th>\n",
       "      <td>284515</td>\n",
       "      <td>0</td>\n",
       "    </tr>\n",
       "    <tr>\n",
       "      <th>9341</th>\n",
       "      <td>208274</td>\n",
       "      <td>0</td>\n",
       "    </tr>\n",
       "    <tr>\n",
       "      <th>16732</th>\n",
       "      <td>294050</td>\n",
       "      <td>1</td>\n",
       "    </tr>\n",
       "    <tr>\n",
       "      <th>17877</th>\n",
       "      <td>82765</td>\n",
       "      <td>1</td>\n",
       "    </tr>\n",
       "    <tr>\n",
       "      <th>23156</th>\n",
       "      <td>369509</td>\n",
       "      <td>1</td>\n",
       "    </tr>\n",
       "    <tr>\n",
       "      <th>25002</th>\n",
       "      <td>91102</td>\n",
       "      <td>1</td>\n",
       "    </tr>\n",
       "  </tbody>\n",
       "</table>\n",
       "<p>12430 rows × 2 columns</p>\n",
       "</div>"
      ],
      "text/plain": [
       "         user  predicted_reach\n",
       "31569   48571                1\n",
       "37260  360791                1\n",
       "40921  251974                1\n",
       "7351   107014                0\n",
       "31204  131222                1\n",
       "21167  366147                1\n",
       "19942  341789                0\n",
       "44349  319984                0\n",
       "44409  207198                0\n",
       "24703  139513                1\n",
       "26954  168538                1\n",
       "27154  171753                0\n",
       "16748    8961                1\n",
       "25021  237559                1\n",
       "26247  356839                1\n",
       "39235  221276                0\n",
       "33141  275975                0\n",
       "41495  373525                1\n",
       "23203   96642                1\n",
       "35892  296390                0\n",
       "30961   67668                1\n",
       "24259  297410                1\n",
       "27204   78811                1\n",
       "4311     8396                1\n",
       "27782   65598                1\n",
       "24416  255288                1\n",
       "21465   40127                1\n",
       "26091  183313                0\n",
       "2874   173989                1\n",
       "36034   28409                0\n",
       "...       ...              ...\n",
       "5953   268101                1\n",
       "47533  211817                1\n",
       "39192  302612                1\n",
       "17628  372347                1\n",
       "17322  111790                1\n",
       "35747   76094                1\n",
       "12589  248109                1\n",
       "2913   142541                1\n",
       "33791   54486                1\n",
       "3798   175437                1\n",
       "24650  369842                1\n",
       "9732   298442                0\n",
       "42089  176742                1\n",
       "40275  112423                1\n",
       "6904   248918                1\n",
       "27051  182585                1\n",
       "47901  360959                1\n",
       "25575  195588                0\n",
       "21223  233661                1\n",
       "8854    32793                1\n",
       "33286  234080                0\n",
       "21136  322013                1\n",
       "20155   26747                1\n",
       "44005  342893                1\n",
       "39238  284515                0\n",
       "9341   208274                0\n",
       "16732  294050                1\n",
       "17877   82765                1\n",
       "23156  369509                1\n",
       "25002   91102                1\n",
       "\n",
       "[12430 rows x 2 columns]"
      ]
     },
     "execution_count": 866,
     "metadata": {},
     "output_type": "execute_result"
    }
   ],
   "source": [
    "finalresult"
   ]
  },
  {
   "cell_type": "code",
   "execution_count": null,
   "metadata": {},
   "outputs": [],
   "source": []
  }
 ],
 "metadata": {
  "kernelspec": {
   "display_name": "Python 3",
   "language": "python",
   "name": "python3"
  },
  "language_info": {
   "codemirror_mode": {
    "name": "ipython",
    "version": 3
   },
   "file_extension": ".py",
   "mimetype": "text/x-python",
   "name": "python",
   "nbconvert_exporter": "python",
   "pygments_lexer": "ipython3",
   "version": "3.7.3"
  }
 },
 "nbformat": 4,
 "nbformat_minor": 2
}
